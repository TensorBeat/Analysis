{
  "nbformat": 4,
  "nbformat_minor": 0,
  "metadata": {
    "colab": {
      "name": "Example fe with Keras.ipynb",
      "provenance": []
    },
    "kernelspec": {
      "name": "python3",
      "display_name": "Python 3"
    }
  },
  "cells": [
    {
      "cell_type": "code",
      "metadata": {
        "id": "jH5NWauweihT"
      },
      "source": [
        "import librosa\r\n",
        "import pandas as pd\r\n",
        "import numpy as np\r\n",
        "import matplotlib.pyplot as plt\r\n",
        "%matplotlib inline\r\n",
        "import os\r\n",
        "import csv\r\n",
        "from sklearn.model_selection import train_test_split\r\n",
        "from sklearn.preprocessing import LabelEncoder, StandardScaler\r\n",
        "import keras"
      ],
      "execution_count": null,
      "outputs": []
    },
    {
      "cell_type": "code",
      "metadata": {
        "id": "fTqgZjS1exBm"
      },
      "source": [
        "header = 'filename chroma_stft rmse spectral_centroid spectral_bandwidth rolloff zero_crossing_rate'\r\n",
        "for i in range(1, 21):\r\n",
        "    header += f' mfcc{i}'\r\n",
        "header += ' label'\r\n",
        "header = header.split()"
      ],
      "execution_count": null,
      "outputs": []
    },
    {
      "cell_type": "code",
      "metadata": {
        "id": "g5WCC1s-fCL4"
      },
      "source": [
        "#Doing Feature Extraction for all songs we want, \r\n",
        "\r\n",
        "file = open('data.csv', 'w', newline='')\r\n",
        "with file:\r\n",
        "    writer = csv.writer(file)\r\n",
        "    writer.writerow(header)\r\n",
        "genres = 'blues classical country disco hiphop jazz metal pop reggae rock'.split()\r\n",
        "for g in genres:\r\n",
        "    for filename in os.listdir(f'./genres/{g}'):\r\n",
        "        songname = f'./genres/{g}/{filename}'\r\n",
        "        y, sr = librosa.load(songname, mono=True, duration=30)\r\n",
        "        chroma_stft = librosa.feature.chroma_stft(y=y, sr=sr)\r\n",
        "        rmse = librosa.feature.rmse(y=y)\r\n",
        "        spec_cent = librosa.feature.spectral_centroid(y=y, sr=sr)\r\n",
        "        spec_bw = librosa.feature.spectral_bandwidth(y=y, sr=sr)\r\n",
        "        rolloff = librosa.feature.spectral_rolloff(y=y, sr=sr)\r\n",
        "        zcr = librosa.feature.zero_crossing_rate(y)\r\n",
        "        mfcc = librosa.feature.mfcc(y=y, sr=sr)\r\n",
        "        to_append = f'{filename} {np.mean(chroma_stft)} {np.mean(rmse)} {np.mean(spec_cent)} {np.mean(spec_bw)} {np.mean(rolloff)} {np.mean(zcr)}'    \r\n",
        "        for e in mfcc:\r\n",
        "            to_append += f' {np.mean(e)}'\r\n",
        "        to_append += f' {g}'\r\n",
        "        file = open('data.csv', 'a', newline='')\r\n",
        "        with file:\r\n",
        "            writer = csv.writer(file)\r\n",
        "            writer.writerow(to_append.split())"
      ],
      "execution_count": null,
      "outputs": []
    },
    {
      "cell_type": "code",
      "metadata": {
        "id": "XIcr6dsafU7h"
      },
      "source": [
        "data = pd.read_csv('data.csv')\r\n",
        "data.head()\r\n",
        "data = data.drop(['filename'],axis=1)\r\n",
        "data.head()\r\n",
        "\r\n",
        "genre_list = data.iloc[:, -1]\r\n",
        "encoder = LabelEncoder()\r\n",
        "y = encoder.fit_transform(genre_list)\r\n",
        "print(y)\r\n",
        "scaler = StandardScaler()\r\n",
        "X = scaler.fit_transform(np.array(data.iloc[:, :-1], dtype = float))\r\n",
        "X_train, X_test, y_train, y_test = train_test_split(X, y, test_size=0.2)\r\n",
        "\r\n"
      ],
      "execution_count": null,
      "outputs": []
    },
    {
      "cell_type": "code",
      "metadata": {
        "id": "GXxmah7lfiXM"
      },
      "source": [
        "from keras import models\r\n",
        "from keras import layers\r\n",
        "model = models.Sequential()\r\n",
        "model.add(layers.Dense(256, activation='relu', input_shape=(X_train.shape[1],)))\r\n",
        "model.add(layers.Dense(128, activation='relu'))\r\n",
        "model.add(layers.Dense(64, activation='relu'))\r\n",
        "model.add(layers.Dense(10, activation='softmax'))\r\n",
        "\r\n",
        "model.compile(optimizer='adam',\r\n",
        "              loss='sparse_categorical_crossentropy',\r\n",
        "              metrics=['accuracy'])\r\n",
        "\r\n",
        "history = model.fit(X_train,\r\n",
        "                    y_train,\r\n",
        "                    epochs=20,\r\n",
        "                    batch_size=128)\r\n",
        "\r\n",
        "test_loss, test_acc = model.evaluate(X_test,y_test)\r\n",
        "print('test_acc: ',test_acc)"
      ],
      "execution_count": null,
      "outputs": []
    },
    {
      "cell_type": "code",
      "metadata": {
        "id": "97STBOZ0fsYg"
      },
      "source": [
        "predictions = model.predict(X_test)\r\n",
        "np.argmax(predictions[0])"
      ],
      "execution_count": null,
      "outputs": []
    }
  ]
}